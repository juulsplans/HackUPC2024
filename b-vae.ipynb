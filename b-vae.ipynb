{
 "cells": [
  {
   "cell_type": "code",
   "execution_count": null,
   "metadata": {},
   "outputs": [],
   "source": [
    "!pip install --quiet diffusers\n",
    "!pip install --quiet omegaconf\n",
    "!pip install --quiet transformers\n",
    "!pip install --quiet accelerate"
   ]
  },
  {
   "cell_type": "code",
   "execution_count": null,
   "metadata": {},
   "outputs": [],
   "source": [
    "from torchvision.datasets import CIFAR10\n",
    "import torchvision.transforms as transforms\n",
    "from diffusers.models import AutoencoderKL\n",
    "import torch\n",
    "import tensorflow as tf\n",
    "import os\n",
    "from sklearn.model_selection import train_test_split"
   ]
  },
  {
   "cell_type": "code",
   "execution_count": null,
   "metadata": {},
   "outputs": [],
   "source": [
    "\n",
    "# Ruta de la carpeta que contiene las imágenes\n",
    "carpeta_imagenes = \"/images\"\n",
    "\n",
    "# Obtener la lista de nombres de archivos de las imágenes\n",
    "nombres_imagenes = os.listdir(carpeta_imagenes)\n",
    "\n",
    "# Dividir la lista de nombres de imágenes en conjuntos de entrenamiento y prueba\n",
    "nombres_imagenes_train, nombres_imagenes_test = train_test_split(nombres_imagenes, test_size=0.2, random_state=42)\n",
    "\n",
    "# Ahora tienes dos listas: nombres_imagenes_train y nombres_imagenes_test\n",
    "# con los nombres de las imágenes para el conjunto de entrenamiento y prueba respectivamente\n"
   ]
  },
  {
   "cell_type": "code",
   "execution_count": null,
   "metadata": {},
   "outputs": [],
   "source": [
    "vae = AutoencoderKL.from_pretrained(\"stabilityai/sd-vae-ft-ema\")"
   ]
  },
  {
   "cell_type": "code",
   "execution_count": null,
   "metadata": {},
   "outputs": [],
   "source": [
    "representacions_latents_train=[]\n",
    "for data in imatges:\n",
    "  with torch.no_grad():\n",
    "    vector = vae.encode(data).latent_dist.mode()\n",
    "    representacions_latents_train.append(vector.view(vector.size(0),-1))\n",
    "  "
   ]
  },
  {
   "cell_type": "code",
   "execution_count": null,
   "metadata": {},
   "outputs": [],
   "source": [
    "import numpy as np\n",
    "from sklearn.cluster import KMeans\n",
    "from sklearn.decomposition import PCA\n",
    "import matplotlib.pyplot as plt\n",
    "\n",
    "# Supongamos que 'embeddings' es una matriz de la forma (número de imágenes, dimensión de embedding)\n",
    "# Puedes obtenerla de tu modelo VAE.\n",
    "\n",
    "# Realizamos PCA para reducir la dimensión si es necesario (opcional)\n",
    "pca = PCA(n_components=2)  # Reducimos a 2 dimensiones para visualización\n",
    "embeddings_pca = pca.fit_transform(embeddings)\n",
    "\n",
    "# Realizamos el clustering con K-Means\n",
    "num_clusters = 5  # Puedes ajustar este número según tus necesidades\n",
    "kmeans = KMeans(n_clusters=num_clusters)\n",
    "clusters = kmeans.fit_predict(embeddings)\n",
    "\n",
    "# Visualizamos los resultados\n",
    "plt.figure(figsize=(10, 7))\n",
    "plt.scatter(embeddings_pca[:, 0], embeddings_pca[:, 1], c=clusters, cmap='viridis')\n",
    "plt.title('Clustering de embeddings')\n",
    "plt.xlabel('Componente principal 1')\n",
    "plt.ylabel('Componente principal 2')\n",
    "plt.colorbar(label='Cluster')\n",
    "plt.show()\n"
   ]
  }
 ],
 "metadata": {
  "language_info": {
   "name": "python"
  },
  "orig_nbformat": 4
 },
 "nbformat": 4,
 "nbformat_minor": 2
}
