{
 "cells": [
  {
   "cell_type": "code",
   "execution_count": null,
   "metadata": {},
   "outputs": [],
   "source": [
    "!pip install --quiet diffusers\n",
    "!pip install --quiet omegaconf\n",
    "!pip install --quiet transformers\n",
    "!pip install --quiet accelerate"
   ]
  },
  {
   "cell_type": "code",
   "execution_count": null,
   "metadata": {},
   "outputs": [],
   "source": [
    "from torchvision.datasets import CIFAR10\n",
    "import torchvision.transforms as transforms\n",
    "from diffusers.models import AutoencoderKL\n",
    "import torch\n",
    "import tensorflow as tf\n",
    "import os\n",
    "from sklearn.model_selection import train_test_split"
   ]
  },
  {
   "cell_type": "code",
   "execution_count": null,
   "metadata": {},
   "outputs": [],
   "source": [
    "\n",
    "# Ruta de la carpeta que contiene las imágenes\n",
    "carpeta_imagenes = \"/images\"\n",
    "\n",
    "# Obtener la lista de nombres de archivos de las imágenes\n",
    "nombres_imagenes = os.listdir(carpeta_imagenes)\n",
    "\n",
    "# Dividir la lista de nombres de imágenes en conjuntos de entrenamiento y prueba\n",
    "nombres_imagenes_train, nombres_imagenes_test = train_test_split(nombres_imagenes, test_size=0.2, random_state=42)\n",
    "\n",
    "# Ahora tienes dos listas: nombres_imagenes_train y nombres_imagenes_test\n",
    "# con los nombres de las imágenes para el conjunto de entrenamiento y prueba respectivamente\n"
   ]
  },
  {
   "cell_type": "code",
   "execution_count": null,
   "metadata": {},
   "outputs": [],
   "source": [
    "vae = AutoencoderKL.from_pretrained(\"stabilityai/sd-vae-ft-ema\").to(device)"
   ]
  },
  {
   "cell_type": "code",
   "execution_count": null,
   "metadata": {},
   "outputs": [],
   "source": [
    "transform = transforms.Compose(\n",
    "    [transforms.ToTensor(),\n",
    "     transforms.Normalize((0.5, 0.5, 0.5), (0.5, 0.5, 0.5))])\n",
    "\n",
    "batch_size = 512\n",
    "\n",
    "\n",
    "\n",
    "train= CIFAR10(root='./data', train=True,download=True,transform = transform)\n",
    "trainloader = torch.utils.data.DataLoader(train, batch_size=batch_size,\n",
    "                                          shuffle=True)\n",
    "\n",
    "test= CIFAR10(root='./data', train=False,download=True,transform = transform)\n",
    "testloader = torch.utils.data.DataLoader(test, batch_size=batch_size,\n",
    "                                          shuffle=True)"
   ]
  },
  {
   "cell_type": "code",
   "execution_count": null,
   "metadata": {},
   "outputs": [],
   "source": [
    "representacions_latents_train=[]\n",
    "labels_train = []\n",
    "for data,label in trainloader:\n",
    "  with torch.no_grad():\n",
    "    vector = vae.encode(data.to(device)).latent_dist.mode()\n",
    "    representacions_latents_train.append(vector.view(vector.size(0),-1))\n",
    "    labels_train.append(label)"
   ]
  }
 ],
 "metadata": {
  "language_info": {
   "name": "python"
  },
  "orig_nbformat": 4
 },
 "nbformat": 4,
 "nbformat_minor": 2
}
